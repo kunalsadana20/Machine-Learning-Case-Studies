{
 "cells": [
  {
   "cell_type": "markdown",
   "id": "7f4db23b",
   "metadata": {},
   "source": [
    "# Multiplication Table\n",
    "Description\n",
    "Write a program to display the multiplication table of a given number.\n",
    "\n",
    "----------------------------------------------------------------------\n",
    "\n",
    "Input:\n",
    "\n",
    "A positive integer\n",
    "\n",
    "Output:\n",
    "\n",
    "Multiplication table\n",
    "\n",
    "----------------------------------------------------------------------\n",
    "\n",
    "Sample input:\n",
    "\n",
    "5\n",
    "\n",
    "Sample output:\n",
    "\n",
    "5 * 1 = 5\n",
    "\n",
    "5 * 2 = 10\n",
    "\n",
    "5 * 3 = 15\n",
    "\n",
    "5 * 4 = 20\n",
    "\n",
    "5 * 5 = 25\n",
    "\n",
    "5 * 6 = 30\n",
    "\n",
    "5 * 7 = 35\n",
    "\n",
    "5 * 8 = 40\n",
    "\n",
    "5 * 9 = 45\n",
    "\n",
    "5 * 10 = 50"
   ]
  },
  {
   "cell_type": "code",
   "execution_count": 4,
   "id": "3a6be45b",
   "metadata": {},
   "outputs": [
    {
     "name": "stdout",
     "output_type": "stream",
     "text": [
      "3\n",
      "3 * 1 = 3\n",
      "3 * 2 = 6\n",
      "3 * 3 = 9\n",
      "3 * 4 = 12\n",
      "3 * 5 = 15\n",
      "3 * 6 = 18\n",
      "3 * 7 = 21\n",
      "3 * 8 = 24\n",
      "3 * 9 = 27\n",
      "3 * 10 = 30\n"
     ]
    }
   ],
   "source": [
    "n=int(input())\n",
    "for x in range(1,11):\n",
    "    print(n,'*',x,'=',n*x)"
   ]
  },
  {
   "cell_type": "markdown",
   "id": "a2d3d5fa",
   "metadata": {},
   "source": [
    "# Character frequency\n",
    "Description\n",
    "Write a program to accept a string value from the user and accept a char value from the user and find out the total occurrence of the char value in the string value. Note that the count is not case-sensitive\n",
    "\n",
    "----------------------------------------------------------------------\n",
    "\n",
    "Input:\n",
    "\n",
    "A string and a character whose occurrence is to be found\n",
    "\n",
    "Output:\n",
    "\n",
    "An integer\n",
    "\n",
    "----------------------------------------------------------------------\n",
    "\n",
    "Sample input:\n",
    "\n",
    "Python Programming\n",
    "\n",
    "P\n",
    "\n",
    "Sample output:\n",
    "\n",
    "2\n",
    "\n",
    "----------------------------------------------------------------------\n",
    "\n",
    "Sample input:\n",
    "\n",
    "This is my first program\n",
    "\n",
    "t\n",
    "\n",
    "Sample output:\n",
    "\n",
    "2"
   ]
  },
  {
   "cell_type": "code",
   "execution_count": 13,
   "id": "cf300edb",
   "metadata": {},
   "outputs": [
    {
     "name": "stdout",
     "output_type": "stream",
     "text": [
      "TtTt\n",
      "T\n"
     ]
    },
    {
     "data": {
      "text/plain": [
       "4"
      ]
     },
     "execution_count": 13,
     "metadata": {},
     "output_type": "execute_result"
    }
   ],
   "source": [
    "input_string=input()\n",
    "input_char=input()\n",
    "\n",
    "input_string.lower().count(input_char.lower())"
   ]
  },
  {
   "cell_type": "markdown",
   "id": "06b456cf",
   "metadata": {},
   "source": [
    "# Sum of digits\n",
    "Description\n",
    "Write a program to calculate the sum of the digits of a given number \n",
    "\n",
    "----------------------------------------------------------------------\n",
    "\n",
    "Input:\n",
    "\n",
    "An n digit number\n",
    "\n",
    "Output:\n",
    "\n",
    "Sum of the digits\n",
    "\n",
    "----------------------------------------------------------------------\n",
    "\n",
    "Sample input:\n",
    "\n",
    "983\n",
    "\n",
    "Sample output:\n",
    "\n",
    "20\n",
    "\n",
    "----------------------------------------------------------------------\n",
    "\n",
    "Sample input:\n",
    "\n",
    "5241\n",
    "\n",
    "Sample output:\n",
    "\n",
    "12"
   ]
  },
  {
   "cell_type": "code",
   "execution_count": 15,
   "id": "9b0d6e53",
   "metadata": {},
   "outputs": [
    {
     "name": "stdout",
     "output_type": "stream",
     "text": [
      "983\n",
      "20\n"
     ]
    }
   ],
   "source": [
    "n=int(input())\n",
    "sum=0\n",
    "while n!=0:\n",
    "    sum+=n%10\n",
    "    n=n//10\n",
    "print(sum)"
   ]
  },
  {
   "cell_type": "markdown",
   "id": "e26ea93c",
   "metadata": {},
   "source": [
    "# Count the digits\n",
    "Description\n",
    "Write a program to accept a number from the user and count the zeros, odd digits and non-zero even digits from the entered number.\n",
    "\n",
    "----------------------------------------------------------------------\n",
    "\n",
    "Input:\n",
    "\n",
    "A positive integer of n digits\n",
    "\n",
    "Output:\n",
    "\n",
    "Three integers representing the occurrences of zeros, odd digits and non-zero even digits from the entered number.\n",
    "\n",
    "----------------------------------------------------------------------\n",
    "\n",
    "Sample input:\n",
    "\n",
    "1030\n",
    "\n",
    "Sample output:\n",
    "\n",
    "Number of odd digits: 2\n",
    "\n",
    "Number of non-zero even digits: 0\n",
    "\n",
    "Number of zeros: 2"
   ]
  },
  {
   "cell_type": "code",
   "execution_count": 21,
   "id": "5a49677a",
   "metadata": {},
   "outputs": [
    {
     "name": "stdout",
     "output_type": "stream",
     "text": [
      "1030\n",
      "Number of odd digits: 2\n",
      "Number of non-zero even digits: 0\n",
      "Number of zeros: 2\n"
     ]
    }
   ],
   "source": [
    "n=int(input())\n",
    "count_odd, count_even, count_zero=0, 0, 0\n",
    "while n!=0:\n",
    "    digit=n%10\n",
    "    if digit%2==0:\n",
    "        if digit==0:\n",
    "            count_zero+=1\n",
    "        else:\n",
    "            count_even+=1\n",
    "    else:\n",
    "        count_odd+=1\n",
    "    n=n//10\n",
    "print('Number of odd digits:',count_odd)\n",
    "print('Number of non-zero even digits:',count_even)\n",
    "print('Number of zeros:',count_zero)"
   ]
  },
  {
   "cell_type": "markdown",
   "id": "b84a49de",
   "metadata": {},
   "source": [
    "# String manipulation\n",
    "Description\n",
    "Write a program that takes a string as the input and does the following:\n",
    "\n",
    "    -Removes the numbers, special characters\n",
    "\n",
    "    -Converts uppercase letters to lowercase letters, and vice versa \n",
    "\n",
    "----------------------------------------------------------------------\n",
    "\n",
    "Input:\n",
    "\n",
    "A string \n",
    "\n",
    "Output:\n",
    "\n",
    "A string with numbers, special characters removed, upper and lower cases swapped\n",
    "\n",
    "----------------------------------------------------------------------\n",
    "\n",
    "Sample input:\n",
    "\n",
    "Programming1234\n",
    "\n",
    "Sample output:\n",
    "\n",
    "pROGRAMMING\n",
    "\n",
    "----------------------------------------------------------------------\n",
    "\n",
    "Sample input:\n",
    "\n",
    "Programming is 100% fun\n",
    "\n",
    "Sample output:\n",
    "\n",
    "pROGRAMMINGISFUN"
   ]
  },
  {
   "cell_type": "code",
   "execution_count": 26,
   "id": "fa3723f7",
   "metadata": {},
   "outputs": [
    {
     "name": "stdout",
     "output_type": "stream",
     "text": [
      "Programming is 100% fun\n",
      "pROGRAMMINGISFUN\n"
     ]
    }
   ],
   "source": [
    "input_string=input()\n",
    "word=''\n",
    "for i in input_string:\n",
    "    if i.isalpha():\n",
    "        word+=i.swapcase()\n",
    "print(word)\n"
   ]
  },
  {
   "cell_type": "code",
   "execution_count": null,
   "id": "fcd21088",
   "metadata": {},
   "outputs": [],
   "source": []
  }
 ],
 "metadata": {
  "kernelspec": {
   "display_name": "Python 3 (ipykernel)",
   "language": "python",
   "name": "python3"
  },
  "language_info": {
   "codemirror_mode": {
    "name": "ipython",
    "version": 3
   },
   "file_extension": ".py",
   "mimetype": "text/x-python",
   "name": "python",
   "nbconvert_exporter": "python",
   "pygments_lexer": "ipython3",
   "version": "3.9.7"
  }
 },
 "nbformat": 4,
 "nbformat_minor": 5
}

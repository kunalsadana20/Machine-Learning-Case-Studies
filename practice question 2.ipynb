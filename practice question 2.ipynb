{
 "cells": [
  {
   "cell_type": "markdown",
   "id": "f74fdbb3",
   "metadata": {},
   "source": [
    "# Digit or Alphabet\n",
    "Description\n",
    "Write a program to display whether the input is a digit or a letter of the alphabet.\n",
    "\n",
    "----------------------------------------------------------------------\n",
    "\n",
    "Input:\n",
    "\n",
    "A digit or a letter of the alphabet\n",
    "\n",
    "\n",
    "Output:\n",
    "\n",
    "Displays whether the given output is an integer or a letter of the alphabet\n",
    "\n",
    "\n",
    "----------------------------------------------------------------------\n",
    "\n",
    "Sample input:\n",
    "\n",
    "1\n",
    "\n",
    "\n",
    "Sample output:\n",
    "\n",
    "Integer\n",
    "\n",
    "\n",
    "----------------------------------------------------------------------\n",
    "\n",
    "Sample input:\n",
    "\n",
    "b\n",
    "\n",
    "\n",
    "Sample output:\n",
    "\n",
    "Alphabet"
   ]
  },
  {
   "cell_type": "code",
   "execution_count": 9,
   "id": "c3c96264",
   "metadata": {},
   "outputs": [
    {
     "name": "stdout",
     "output_type": "stream",
     "text": [
      "0\n",
      "Integer\n"
     ]
    }
   ],
   "source": [
    "inp=input()\n",
    "if inp.isalpha():\n",
    "    print('Alphabet')\n",
    "if inp.isdigit():\n",
    "    print('Integer')"
   ]
  },
  {
   "cell_type": "markdown",
   "id": "0e684107",
   "metadata": {},
   "source": [
    "# ASCII values\n",
    "Description\n",
    "Write a program to accept a character and display its next and previous character. \n",
    "\n",
    "Hint: Make use of Ascii values here.\n",
    "\n",
    "----------------------------------------------------------------------\n",
    "\n",
    "Input:\n",
    "\n",
    "A character\n",
    "\n",
    "Output:\n",
    "\n",
    "Previous character and the next character of the given character\n",
    "\n",
    "\n",
    "----------------------------------------------------------------------\n",
    "\n",
    "Sample input:\n",
    "\n",
    "D\n",
    "\n",
    "Sample output:\n",
    "\n",
    "C\n",
    "\n",
    "E\n",
    "\n",
    "\n",
    "---------------------------------------------------------------------\n",
    "\n",
    "Sample input:\n",
    "\n",
    "8\n",
    "\n",
    "Sample output:\n",
    "\n",
    "7\n",
    "\n",
    "9\n",
    "\n",
    "\n",
    "----------------------------------------------------------------------\n",
    "\n",
    "Sample input:\n",
    "\n",
    "@\n",
    "\n",
    "Sample Output: \n",
    "\n",
    "?\n",
    "\n",
    "A"
   ]
  },
  {
   "cell_type": "code",
   "execution_count": 29,
   "id": "c315a0fb",
   "metadata": {},
   "outputs": [
    {
     "name": "stdout",
     "output_type": "stream",
     "text": [
      "F\n",
      "E\n",
      "G\n"
     ]
    }
   ],
   "source": [
    "char=input()\n",
    "print(chr(ord(char)-1))\n",
    "print(chr(ord(char)+1))"
   ]
  },
  {
   "cell_type": "markdown",
   "id": "06a19e04",
   "metadata": {},
   "source": [
    "# No Vowels\n",
    "Description\n",
    "Write a program to accept a string from the user, delete all vowels from the string and display the result. \n",
    "\n",
    "----------------------------------------------------------------------\n",
    "\n",
    "Input:\n",
    "\n",
    "A string\n",
    "\n",
    "Output:\n",
    "\n",
    "A string with vowels removed\n",
    "\n",
    "----------------------------------------------------------------------\n",
    "\n",
    "Sample input:\n",
    "\n",
    "Upgrad\n",
    "\n",
    "Sample output:\n",
    "\n",
    "pgrd\n",
    "\n",
    "----------------------------------------------------------------------\n",
    "\n",
    "Sample input:\n",
    "\n",
    "Python Programming\n",
    "\n",
    "Sample output:\n",
    "\n",
    "Pythn Prgrmmng"
   ]
  },
  {
   "cell_type": "code",
   "execution_count": 37,
   "id": "55f3060f",
   "metadata": {},
   "outputs": [
    {
     "name": "stdout",
     "output_type": "stream",
     "text": [
      "Upgrad\n",
      "pgrd\n"
     ]
    }
   ],
   "source": [
    "s=input()\n",
    "word=''\n",
    "vowel='aeiouAEIOU'\n",
    "for i in range(len(s)):\n",
    "    if s[i] not in vowel:\n",
    "        word+=s[i]\n",
    "print(word)"
   ]
  },
  {
   "cell_type": "markdown",
   "id": "028f9cfb",
   "metadata": {},
   "source": [
    "# Valid triangle\n",
    "Description\n",
    "Write a program to accept three sides of a triangle as the input and print whether the triangle is valid or not.\n",
    "\n",
    "(A triangle is valid if the sum of any two sides is greater than the third side.)\n",
    "\n",
    "----------------------------------------------------------------------\n",
    "\n",
    "Input:\n",
    "\n",
    "Three sides of a triangle separated by a space\n",
    "\n",
    "Output:\n",
    "\n",
    "Whether the given triangle is \"Valid\" or \"Invalid\"\n",
    "\n",
    "----------------------------------------------------------------------\n",
    "\n",
    "Sample input:\n",
    "\n",
    "3 4 5\n",
    "\n",
    "Sample output:\n",
    "\n",
    "Valid\n",
    "\n",
    "----------------------------------------------------------------------\n",
    "\n",
    "Sample input:\n",
    "\n",
    "1 4 5\n",
    "\n",
    "Sample output:\n",
    "\n",
    "Invalid"
   ]
  },
  {
   "cell_type": "code",
   "execution_count": 46,
   "id": "21c8f1f7",
   "metadata": {},
   "outputs": [
    {
     "name": "stdout",
     "output_type": "stream",
     "text": [
      "3 4 5\n",
      "Valid\n"
     ]
    }
   ],
   "source": [
    "a,b,c= input().split()\n",
    "a=int(a)\n",
    "b=int(b)\n",
    "c=int(c)\n",
    "if a+b>c and b+c>a and c+a>b:\n",
    "    print('Valid')\n",
    "else:\n",
    "    print('Invalid')"
   ]
  }
 ],
 "metadata": {
  "kernelspec": {
   "display_name": "Python 3 (ipykernel)",
   "language": "python",
   "name": "python3"
  },
  "language_info": {
   "codemirror_mode": {
    "name": "ipython",
    "version": 3
   },
   "file_extension": ".py",
   "mimetype": "text/x-python",
   "name": "python",
   "nbconvert_exporter": "python",
   "pygments_lexer": "ipython3",
   "version": "3.9.7"
  }
 },
 "nbformat": 4,
 "nbformat_minor": 5
}
